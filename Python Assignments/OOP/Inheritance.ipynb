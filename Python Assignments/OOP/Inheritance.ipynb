{
 "cells": [
  {
   "cell_type": "markdown",
   "metadata": {},
   "source": [
    "# INHERITANCE IN PYTHON"
   ]
  },
  {
   "cell_type": "markdown",
   "metadata": {},
   "source": [
    "Iheritance is the processing of inheriting the properties of the parent class into child class\n",
    ">Base/Parent Class is the existing class that is inherited from\n",
    ">Subclass/child/derived class is the new class inheriting \n",
    ">>Inheritance promotes\n",
    ">>>Code reusability considered one of the best industrial coding practices as it makes the codebase modular\n",
    "\n",
    "In inheritance, the child class acquires all the data members, properties, and functions from the parent class. Child class can also provide its specific implementation to the methods of the parent class"
   ]
  },
  {
   "cell_type": "markdown",
   "metadata": {},
   "source": [
    "### Example: \n",
    "\n",
    "In the real world, a Car is a subclass/Child of a Vehicle class(Parent). We can create a Car by inheriting the properties of a Vehicle such as Wheels, Colors, Fuel tank, engine, and add extra properties in Car as required.\n",
    "\n",
    "### syntax:\n",
    "\n",
    "class ParentClass:\n",
    "    Body of Parent Class\n",
    "Class ChildClass(ParentClass)\n",
    "    Body of Child class\n",
    "\n",
    "\n",
    "#### Types of inheritance in Python\n",
    "1. Single Inheritance\n",
    "2. Multiple Inheritance\n",
    "3. Multilevel Inheritance\n",
    "4. Hierachical Inheritance \n",
    "5. Hybrid Inheritance \n",
    "\n",
    "### Single Inheritance \n",
    "A child inherits from a single parent class \n",
    "as shown below👇👇👇"
   ]
  },
  {
   "cell_type": "code",
   "execution_count": 1,
   "metadata": {},
   "outputs": [
    {
     "name": "stdout",
     "output_type": "stream",
     "text": [
      "Inside Parent(Vehicle) class\n",
      "Inside Child(Car) class\n"
     ]
    }
   ],
   "source": [
    "# Base/Parent class\n",
    "\n",
    "class Vehicle: \n",
    "    def Vehicle_info(self):\n",
    "        print('Inside Parent(Vehicle) class')\n",
    "\n",
    "# Child Class\n",
    "class Car(Vehicle):\n",
    "    def car_info(self):\n",
    "        print('Inside Child(Car) class')\n",
    "\n",
    "# create an object of car\n",
    "car = Car()\n",
    "\n",
    "# access Vehicle's Information using car object\n",
    "car.Vehicle_info()\n",
    "car.car_info()\n"
   ]
  },
  {
   "cell_type": "markdown",
   "metadata": {},
   "source": [
    "### Multiple Inheritance \n",
    "\n",
    "Here, one child class inherits froms multiple parent class\n",
    "i.e. the child class has access to all parent classes, methods and attributes\n",
    "\n",
    "### Example\n",
    "lets create 2 parent classes Person and Company. then create a child class Employee. which inherits the two parent class👇👇👇👇"
   ]
  },
  {
   "cell_type": "code",
   "execution_count": 12,
   "metadata": {},
   "outputs": [
    {
     "name": "stdout",
     "output_type": "stream",
     "text": [
      "Inside Person class\n",
      "Jessica is 22 years old and is  single and is from Kenya\n",
      "\n",
      "Inside company class\n",
      "Working at Google which is located at Nairbo\n",
      "\n",
      "Inside employee class\n",
      "salary: 40000 skill: Machine learning\n"
     ]
    }
   ],
   "source": [
    "# Parent class 1\n",
    "class Person:\n",
    "    def person_info(self, name, age, status, nationality):\n",
    "        print(\"Inside Person class\")\n",
    "        print(name, 'is', age, 'years old and is ', status, 'and is from', nationality)\n",
    "\n",
    "\n",
    "# parent class 2 company\n",
    "class Company:\n",
    "    def company_info(self, company_name, location):\n",
    "        print('\\nInside company class')\n",
    "        print('Working at', company_name, 'which is located at', location)\n",
    "\n",
    "# child class\n",
    "class Employee(Person, Company):\n",
    "    def employee_info(self,salary, skill):\n",
    "        print('\\nInside employee class')\n",
    "        print('salary:', salary, 'skill:', skill)\n",
    "\n",
    "# create object of employee\n",
    "emp = Employee()\n",
    "\n",
    "# access data\n",
    "emp.person_info('Jessica', 22, 'single', 'Kenya')\n",
    "emp.company_info('Google', 'Nairbo')\n",
    "emp.employee_info(40000, 'Machine learning')"
   ]
  },
  {
   "cell_type": "markdown",
   "metadata": {},
   "source": [
    "### MULTILEVEL INHERITANCE\n",
    "\n",
    "Here a class inherits from child class or derived class \n",
    "\n",
    "### Example: \n",
    "\n",
    "Let’s create 3 classes namely, Vehicle, Car, SportsCar. Here, Vehicle is the superclass, Car is a child class of Vehicle, SportsCar is a child of Car. \n",
    "\n",
    "This is a good example of chaining in class/ Multilevel inheritance"
   ]
  },
  {
   "cell_type": "code",
   "execution_count": 13,
   "metadata": {},
   "outputs": [
    {
     "name": "stdout",
     "output_type": "stream",
     "text": [
      "Inside vehicle class\n",
      "Inside Car class\n",
      "Inside SportsCar class\n"
     ]
    }
   ],
   "source": [
    "# Base class\n",
    "class Vehicle:\n",
    "    def vehicle_info(self):\n",
    "        print('Inside vehicle class')\n",
    "\n",
    "\n",
    "# child class\n",
    "class Car(Vehicle):\n",
    "    def car_info(self):\n",
    "        print('Inside Car class')\n",
    "\n",
    "#\n",
    "class SportsCar(Car):\n",
    "    def sports_car_info(self):\n",
    "        print('Inside SportsCar class')\n",
    "\n",
    "# create object of SportsCar\n",
    "s_car = SportsCar()\n",
    "\n",
    "# access Vehicle's and Car information using SportsCarobject\n",
    "s_car.vehicle_info()\n",
    "s_car.car_info()\n",
    "s_car.sports_car_info()"
   ]
  },
  {
   "cell_type": "markdown",
   "metadata": {},
   "source": [
    "### Hierarchical Inheritance\n",
    "\n",
    "Here several subclass inherit from a single Parent class \n",
    "\n",
    "### Example \n",
    "Let's create 'Vehicle' as parent class and two child class 'Car'and 'Truck' as parent class 👇👇👇👇"
   ]
  },
  {
   "cell_type": "code",
   "execution_count": 15,
   "metadata": {},
   "outputs": [
    {
     "name": "stdout",
     "output_type": "stream",
     "text": [
      "Car model is:  DMW\n",
      "Truck model is  Ford\n"
     ]
    }
   ],
   "source": [
    "# Parent class\n",
    "class Vehicle:\n",
    "    def vehicle_info(self):\n",
    "        print('This is my vehicle')\n",
    "\n",
    "# child class 1\n",
    "class Car(Vehicle):\n",
    "    def car_info(self, model):\n",
    "        print('Car model is: ', model)\n",
    "\n",
    "#child class 2\n",
    "class Truck(Vehicle):\n",
    "    def truck_info(self, model):\n",
    "        print('Truck model is ', model)\n",
    "\n",
    "obj1 = Car()\n",
    "obj1.car_info('DMW')\n",
    "\n",
    "obj2 = Truck()\n",
    "obj2.truck_info('Ford')"
   ]
  },
  {
   "cell_type": "markdown",
   "metadata": {},
   "source": [
    "### HYBRID INHERITANCE\n",
    "\n",
    "Is the mixture of two or more different types of inheritance \n",
    "\n",
    "### Example:\n",
    "\n",
    "Let’s implement hierarchical and multiple inheritance combinations. \n",
    "Create a Parent class Vehicle and two child classes Car and Truck (hierarchical inheritance)\n",
    "Create another class SportCar that inherits from two Parent classes named Car and Vehicle (Multiple inheritance)\n",
    "👇👇👇👇👇"
   ]
  },
  {
   "cell_type": "code",
   "execution_count": 16,
   "metadata": {},
   "outputs": [
    {
     "name": "stdout",
     "output_type": "stream",
     "text": [
      "Inside vehicle class\n",
      "Inside vehicle class\n",
      "Inside Car class\n",
      "Inside SportsCar class\n"
     ]
    }
   ],
   "source": [
    "# Parent class\n",
    "class Vehicle:\n",
    "    def vehicle_info(self):\n",
    "        print('Inside Vehicle class')\n",
    "\n",
    "# child class 1\n",
    "class Car(Vehicle):\n",
    "    def car_info(self):\n",
    "        print('Inside Car class')\n",
    "\n",
    "#child class 2\n",
    "class Truck(Vehicle):\n",
    "    def truck_info(self, model):\n",
    "        print('Inside Truck class')\n",
    "\n",
    "# Sports Car can inherits Properties of vehicle and car\n",
    "class SportsCar(Car, Vehicle):\n",
    "    def sports_car_info(self):\n",
    "        print('Inside SportsCar class')\n",
    "\n",
    "# create object \n",
    "s_car.vehicle_info()\n",
    "\n",
    "s_car.vehicle_info()\n",
    "s_car.car_info()\n",
    "s_car.sports_car_info()\n"
   ]
  },
  {
   "cell_type": "markdown",
   "metadata": {},
   "source": [
    "### PYTHON SUPER() FUNCTION\n",
    "\n",
    "Python has a super() function that will make the child class inherit all the methods of and properties from its parent \n",
    "\n",
    "### Example:\n",
    "\n",
    "Let’s create a parent class Company and child class Employee. In Employee class, we call the parent class method by using a super() function.👇👇👇👇"
   ]
  },
  {
   "cell_type": "code",
   "execution_count": 17,
   "metadata": {},
   "outputs": [
    {
     "name": "stdout",
     "output_type": "stream",
     "text": [
      "Joseph works at Microsoft\n"
     ]
    }
   ],
   "source": [
    "# Parent Class\n",
    "class Company:\n",
    "    def comp_name(sef):\n",
    "        return 'Microsoft'\n",
    "    \n",
    "# Subclass Employee\n",
    "class Employee(Company):\n",
    "    def info(sef):\n",
    "        #calling the superclass method using super() function \n",
    "        c_name =super().comp_name()\n",
    "        print('Joseph works at', c_name)\n",
    "\n",
    "# Creating object of child class\n",
    "emp=Employee()\n",
    "emp.info()\n",
    "\n"
   ]
  },
  {
   "cell_type": "markdown",
   "metadata": {},
   "source": [
    "### ISSUBCLASS()\n",
    "issubclass() is a built-in function that returns TRUE if the given class is a subclass of specified class\n",
    "\n",
    "### syntax\n",
    ">issubclass(class, classinfo)\n",
    "Where\n",
    ">class: class to be checked\n",
    ">classinfo: a class, type, or a tuple of classes or data\n",
    "\n",
    "### Example 👇👇👇👇👇"
   ]
  },
  {
   "cell_type": "code",
   "execution_count": 20,
   "metadata": {},
   "outputs": [
    {
     "name": "stdout",
     "output_type": "stream",
     "text": [
      "True\n",
      "False\n"
     ]
    }
   ],
   "source": [
    "# Parent class\n",
    "class Company1:\n",
    "    def fun1(self):\n",
    "        print('Inside parent class')\n",
    "\n",
    "# child class\n",
    "class Employee1(Company1):\n",
    "    def fun2(self):\n",
    "        print('Inside child class')\n",
    "\n",
    "# class player\n",
    "class Player:\n",
    "    def fun3(self):\n",
    "        print('Inside class Player')\n",
    "\n",
    "#check the \n",
    "x = issubclass(Employee1, Company1)\n",
    "y = issubclass(Player, Company1)\n",
    "\n",
    "print(x)\n",
    "print(y)"
   ]
  }
 ],
 "metadata": {
  "kernelspec": {
   "display_name": "Python 3",
   "language": "python",
   "name": "python3"
  },
  "language_info": {
   "codemirror_mode": {
    "name": "ipython",
    "version": 3
   },
   "file_extension": ".py",
   "mimetype": "text/x-python",
   "name": "python",
   "nbconvert_exporter": "python",
   "pygments_lexer": "ipython3",
   "version": "3.11.8"
  }
 },
 "nbformat": 4,
 "nbformat_minor": 2
}
